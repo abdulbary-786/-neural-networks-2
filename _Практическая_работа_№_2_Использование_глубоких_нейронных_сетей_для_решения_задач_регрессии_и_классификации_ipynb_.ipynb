{
  "nbformat": 4,
  "nbformat_minor": 0,
  "metadata": {
    "colab": {
      "provenance": []
    },
    "kernelspec": {
      "name": "python3",
      "display_name": "Python 3"
    },
    "language_info": {
      "name": "python"
    }
  },
  "cells": [
    {
      "cell_type": "markdown",
      "source": [
        "## Нейросеть для California housing"
      ],
      "metadata": {
        "id": "hfKwW-lVTQC1"
      }
    },
    {
      "cell_type": "markdown",
      "metadata": {
        "id": "3LkrhFC8QvOq"
      },
      "source": [
        "Будем работать с набором данным `fetch_california_housing` из `sklearn`."
      ]
    },
    {
      "cell_type": "markdown",
      "source": [
        "# Здание 1"
      ],
      "metadata": {
        "id": "5NxkoYP0ume3"
      }
    },
    {
      "cell_type": "code",
      "source": [
        "from sklearn.datasets import fetch_california_housing\n",
        "import pandas as pd\n",
        "\n",
        "data = fetch_california_housing()\n",
        "\n",
        "X = pd.DataFrame(data['data'], columns=data['feature_names'])\n",
        "y = data['target']\n",
        "\n",
        "X.head()"
      ],
      "metadata": {
        "id": "pDEf_L-lQvPA",
        "colab": {
          "base_uri": "https://localhost:8080/",
          "height": 206
        },
        "outputId": "dc2720e7-09a9-4b27-9399-0acb85776983"
      },
      "execution_count": null,
      "outputs": [
        {
          "output_type": "execute_result",
          "data": {
            "text/plain": [
              "   MedInc  HouseAge  AveRooms  AveBedrms  Population  AveOccup  Latitude  \\\n",
              "0  8.3252      41.0  6.984127   1.023810       322.0  2.555556     37.88   \n",
              "1  8.3014      21.0  6.238137   0.971880      2401.0  2.109842     37.86   \n",
              "2  7.2574      52.0  8.288136   1.073446       496.0  2.802260     37.85   \n",
              "3  5.6431      52.0  5.817352   1.073059       558.0  2.547945     37.85   \n",
              "4  3.8462      52.0  6.281853   1.081081       565.0  2.181467     37.85   \n",
              "\n",
              "   Longitude  \n",
              "0    -122.23  \n",
              "1    -122.22  \n",
              "2    -122.24  \n",
              "3    -122.25  \n",
              "4    -122.25  "
            ],
            "text/html": [
              "\n",
              "  <div id=\"df-cfdf86bf-25b2-4836-a79b-d23f1f1f8e91\">\n",
              "    <div class=\"colab-df-container\">\n",
              "      <div>\n",
              "<style scoped>\n",
              "    .dataframe tbody tr th:only-of-type {\n",
              "        vertical-align: middle;\n",
              "    }\n",
              "\n",
              "    .dataframe tbody tr th {\n",
              "        vertical-align: top;\n",
              "    }\n",
              "\n",
              "    .dataframe thead th {\n",
              "        text-align: right;\n",
              "    }\n",
              "</style>\n",
              "<table border=\"1\" class=\"dataframe\">\n",
              "  <thead>\n",
              "    <tr style=\"text-align: right;\">\n",
              "      <th></th>\n",
              "      <th>MedInc</th>\n",
              "      <th>HouseAge</th>\n",
              "      <th>AveRooms</th>\n",
              "      <th>AveBedrms</th>\n",
              "      <th>Population</th>\n",
              "      <th>AveOccup</th>\n",
              "      <th>Latitude</th>\n",
              "      <th>Longitude</th>\n",
              "    </tr>\n",
              "  </thead>\n",
              "  <tbody>\n",
              "    <tr>\n",
              "      <th>0</th>\n",
              "      <td>8.3252</td>\n",
              "      <td>41.0</td>\n",
              "      <td>6.984127</td>\n",
              "      <td>1.023810</td>\n",
              "      <td>322.0</td>\n",
              "      <td>2.555556</td>\n",
              "      <td>37.88</td>\n",
              "      <td>-122.23</td>\n",
              "    </tr>\n",
              "    <tr>\n",
              "      <th>1</th>\n",
              "      <td>8.3014</td>\n",
              "      <td>21.0</td>\n",
              "      <td>6.238137</td>\n",
              "      <td>0.971880</td>\n",
              "      <td>2401.0</td>\n",
              "      <td>2.109842</td>\n",
              "      <td>37.86</td>\n",
              "      <td>-122.22</td>\n",
              "    </tr>\n",
              "    <tr>\n",
              "      <th>2</th>\n",
              "      <td>7.2574</td>\n",
              "      <td>52.0</td>\n",
              "      <td>8.288136</td>\n",
              "      <td>1.073446</td>\n",
              "      <td>496.0</td>\n",
              "      <td>2.802260</td>\n",
              "      <td>37.85</td>\n",
              "      <td>-122.24</td>\n",
              "    </tr>\n",
              "    <tr>\n",
              "      <th>3</th>\n",
              "      <td>5.6431</td>\n",
              "      <td>52.0</td>\n",
              "      <td>5.817352</td>\n",
              "      <td>1.073059</td>\n",
              "      <td>558.0</td>\n",
              "      <td>2.547945</td>\n",
              "      <td>37.85</td>\n",
              "      <td>-122.25</td>\n",
              "    </tr>\n",
              "    <tr>\n",
              "      <th>4</th>\n",
              "      <td>3.8462</td>\n",
              "      <td>52.0</td>\n",
              "      <td>6.281853</td>\n",
              "      <td>1.081081</td>\n",
              "      <td>565.0</td>\n",
              "      <td>2.181467</td>\n",
              "      <td>37.85</td>\n",
              "      <td>-122.25</td>\n",
              "    </tr>\n",
              "  </tbody>\n",
              "</table>\n",
              "</div>\n",
              "      <button class=\"colab-df-convert\" onclick=\"convertToInteractive('df-cfdf86bf-25b2-4836-a79b-d23f1f1f8e91')\"\n",
              "              title=\"Convert this dataframe to an interactive table.\"\n",
              "              style=\"display:none;\">\n",
              "        \n",
              "  <svg xmlns=\"http://www.w3.org/2000/svg\" height=\"24px\"viewBox=\"0 0 24 24\"\n",
              "       width=\"24px\">\n",
              "    <path d=\"M0 0h24v24H0V0z\" fill=\"none\"/>\n",
              "    <path d=\"M18.56 5.44l.94 2.06.94-2.06 2.06-.94-2.06-.94-.94-2.06-.94 2.06-2.06.94zm-11 1L8.5 8.5l.94-2.06 2.06-.94-2.06-.94L8.5 2.5l-.94 2.06-2.06.94zm10 10l.94 2.06.94-2.06 2.06-.94-2.06-.94-.94-2.06-.94 2.06-2.06.94z\"/><path d=\"M17.41 7.96l-1.37-1.37c-.4-.4-.92-.59-1.43-.59-.52 0-1.04.2-1.43.59L10.3 9.45l-7.72 7.72c-.78.78-.78 2.05 0 2.83L4 21.41c.39.39.9.59 1.41.59.51 0 1.02-.2 1.41-.59l7.78-7.78 2.81-2.81c.8-.78.8-2.07 0-2.86zM5.41 20L4 18.59l7.72-7.72 1.47 1.35L5.41 20z\"/>\n",
              "  </svg>\n",
              "      </button>\n",
              "      \n",
              "  <style>\n",
              "    .colab-df-container {\n",
              "      display:flex;\n",
              "      flex-wrap:wrap;\n",
              "      gap: 12px;\n",
              "    }\n",
              "\n",
              "    .colab-df-convert {\n",
              "      background-color: #E8F0FE;\n",
              "      border: none;\n",
              "      border-radius: 50%;\n",
              "      cursor: pointer;\n",
              "      display: none;\n",
              "      fill: #1967D2;\n",
              "      height: 32px;\n",
              "      padding: 0 0 0 0;\n",
              "      width: 32px;\n",
              "    }\n",
              "\n",
              "    .colab-df-convert:hover {\n",
              "      background-color: #E2EBFA;\n",
              "      box-shadow: 0px 1px 2px rgba(60, 64, 67, 0.3), 0px 1px 3px 1px rgba(60, 64, 67, 0.15);\n",
              "      fill: #174EA6;\n",
              "    }\n",
              "\n",
              "    [theme=dark] .colab-df-convert {\n",
              "      background-color: #3B4455;\n",
              "      fill: #D2E3FC;\n",
              "    }\n",
              "\n",
              "    [theme=dark] .colab-df-convert:hover {\n",
              "      background-color: #434B5C;\n",
              "      box-shadow: 0px 1px 3px 1px rgba(0, 0, 0, 0.15);\n",
              "      filter: drop-shadow(0px 1px 2px rgba(0, 0, 0, 0.3));\n",
              "      fill: #FFFFFF;\n",
              "    }\n",
              "  </style>\n",
              "\n",
              "      <script>\n",
              "        const buttonEl =\n",
              "          document.querySelector('#df-cfdf86bf-25b2-4836-a79b-d23f1f1f8e91 button.colab-df-convert');\n",
              "        buttonEl.style.display =\n",
              "          google.colab.kernel.accessAllowed ? 'block' : 'none';\n",
              "\n",
              "        async function convertToInteractive(key) {\n",
              "          const element = document.querySelector('#df-cfdf86bf-25b2-4836-a79b-d23f1f1f8e91');\n",
              "          const dataTable =\n",
              "            await google.colab.kernel.invokeFunction('convertToInteractive',\n",
              "                                                     [key], {});\n",
              "          if (!dataTable) return;\n",
              "\n",
              "          const docLinkHtml = 'Like what you see? Visit the ' +\n",
              "            '<a target=\"_blank\" href=https://colab.research.google.com/notebooks/data_table.ipynb>data table notebook</a>'\n",
              "            + ' to learn more about interactive tables.';\n",
              "          element.innerHTML = '';\n",
              "          dataTable['output_type'] = 'display_data';\n",
              "          await google.colab.output.renderOutput(dataTable, element);\n",
              "          const docLink = document.createElement('div');\n",
              "          docLink.innerHTML = docLinkHtml;\n",
              "          element.appendChild(docLink);\n",
              "        }\n",
              "      </script>\n",
              "    </div>\n",
              "  </div>\n",
              "  "
            ]
          },
          "metadata": {},
          "execution_count": 1
        }
      ]
    },
    {
      "cell_type": "markdown",
      "source": [
        "#### 1.1. разобьём данные на обучение и тест"
      ],
      "metadata": {
        "id": "fkRGiXVZTudB"
      }
    },
    {
      "cell_type": "code",
      "source": [
        "from sklearn.model_selection import train_test_split\n",
        "\n",
        "X_train, X_test, y_train, y_test = train_test_split(X.values, y, test_size=0.2, random_state=0)\n",
        "X_train.shape, X_test.shape"
      ],
      "metadata": {
        "id": "0Kr_m64uTudB",
        "outputId": "78ebe7e9-eaff-4b61-d9bf-6b1c2c260ac6",
        "colab": {
          "base_uri": "https://localhost:8080/"
        }
      },
      "execution_count": null,
      "outputs": [
        {
          "output_type": "execute_result",
          "data": {
            "text/plain": [
              "((16512, 8), (4128, 8))"
            ]
          },
          "metadata": {},
          "execution_count": 2
        }
      ]
    },
    {
      "cell_type": "markdown",
      "source": [
        "#### 1.2. создадим архитектуру для этой задачи"
      ],
      "metadata": {
        "id": "815ut8JJTIM7"
      }
    },
    {
      "cell_type": "code",
      "source": [
        "from keras.models import Sequential\n",
        "from keras.layers import Dense, Flatten\n",
        "\n",
        "model = Sequential()\n",
        "\n",
        "model.add(Dense(8, input_shape=(8, ), activation='relu', name='dense_1'))\n",
        "\n",
        "model.add(Dense(8, activation='relu', name='dense_2'))\n",
        "\n",
        "model.add(Dense(8, activation='relu', name='dense_3'))\n",
        "\n",
        "#model.add(Dense(32, activation='relu', name='dense_4'))\n",
        "\n",
        "#model.add(Dense(16, activation='relu', name='dense_5'))\n",
        "#model.add(Dense(64, activation='relu', name='dense_4'))\n",
        "model.add(Dense(1, activation='linear', name='dense_output'))\n",
        "'''\n",
        "model.add(Dense(128, input_shape=(8, ), activation='relu', name='dense_1'))\n",
        "model.add(Dense(64, activation='relu', name='dense_2'))\n",
        "model.add(Dense(1, activation='linear', name='dense_output'))\n",
        "'''"
      ],
      "metadata": {
        "id": "OtEKBEAXTVmN",
        "colab": {
          "base_uri": "https://localhost:8080/",
          "height": 53
        },
        "outputId": "19296902-1693-4988-ec7a-8437ebfc67b9"
      },
      "execution_count": null,
      "outputs": [
        {
          "output_type": "execute_result",
          "data": {
            "text/plain": [
              "\"\\nmodel.add(Dense(128, input_shape=(8, ), activation='relu', name='dense_1'))\\nmodel.add(Dense(64, activation='relu', name='dense_2'))\\nmodel.add(Dense(1, activation='linear', name='dense_output'))\\n\""
            ],
            "application/vnd.google.colaboratory.intrinsic+json": {
              "type": "string"
            }
          },
          "metadata": {},
          "execution_count": 3
        }
      ]
    },
    {
      "cell_type": "markdown",
      "source": [
        "#### 1.3. компилируем сеть\n",
        "\n",
        "подберём нужную функцию потерь и метрику. Оптимизатор можете использовать 'sgd'"
      ],
      "metadata": {
        "id": "F9E1W4yCT0YC"
      }
    },
    {
      "cell_type": "code",
      "source": [
        "from keras.optimizers import Adam\n",
        "\n",
        "opt = Adam(lr=0.00001)\n",
        "\n",
        "model.compile(optimizer=opt, loss='mse', metrics='mae')\n",
        "model.summary()"
      ],
      "metadata": {
        "id": "S4ADrJaoTeZf",
        "colab": {
          "base_uri": "https://localhost:8080/"
        },
        "outputId": "7db4f0ef-92b5-4207-f9e6-abc335b2b4ca"
      },
      "execution_count": null,
      "outputs": [
        {
          "output_type": "stream",
          "name": "stdout",
          "text": [
            "Model: \"sequential\"\n",
            "_________________________________________________________________\n",
            " Layer (type)                Output Shape              Param #   \n",
            "=================================================================\n",
            " dense_1 (Dense)             (None, 8)                 72        \n",
            "                                                                 \n",
            " dense_2 (Dense)             (None, 8)                 72        \n",
            "                                                                 \n",
            " dense_3 (Dense)             (None, 8)                 72        \n",
            "                                                                 \n",
            " dense_output (Dense)        (None, 1)                 9         \n",
            "                                                                 \n",
            "=================================================================\n",
            "Total params: 225\n",
            "Trainable params: 225\n",
            "Non-trainable params: 0\n",
            "_________________________________________________________________\n"
          ]
        },
        {
          "output_type": "stream",
          "name": "stderr",
          "text": [
            "/usr/local/lib/python3.9/dist-packages/keras/optimizers/legacy/adam.py:117: UserWarning: The `lr` argument is deprecated, use `learning_rate` instead.\n",
            "  super().__init__(name, **kwargs)\n"
          ]
        }
      ]
    },
    {
      "cell_type": "markdown",
      "source": [
        "#### 1.4. обучим нейросеть\n",
        "\n",
        "Выберите нужное количество эпох.\n"
      ],
      "metadata": {
        "id": "ebac-dNAUBtX"
      }
    },
    {
      "cell_type": "code",
      "source": [
        "from sklearn.preprocessing import MinMaxScaler\n",
        "\n",
        "mms = MinMaxScaler()\n",
        "X_norm_train = mms.fit_transform(X_train)\n",
        "X_norm_test = mms.fit_transform(X_test)\n",
        "\n",
        "model.fit(X_norm_train, y_train, validation_data=(X_norm_test, y_test), epochs=150)"
      ],
      "metadata": {
        "id": "bGJAwEVPTf8b",
        "colab": {
          "base_uri": "https://localhost:8080/"
        },
        "outputId": "8bc8e853-bda8-49a6-d519-54264c1797c5"
      },
      "execution_count": null,
      "outputs": [
        {
          "output_type": "stream",
          "name": "stdout",
          "text": [
            "Epoch 1/150\n",
            "516/516 [==============================] - 2s 3ms/step - loss: 5.4662 - mae: 2.0337 - val_loss: 5.4001 - val_mae: 2.0245\n",
            "Epoch 2/150\n",
            "516/516 [==============================] - 1s 2ms/step - loss: 5.2761 - mae: 1.9861 - val_loss: 5.2006 - val_mae: 1.9741\n",
            "Epoch 3/150\n",
            "516/516 [==============================] - 1s 2ms/step - loss: 5.0881 - mae: 1.9376 - val_loss: 5.0033 - val_mae: 1.9233\n",
            "Epoch 4/150\n",
            "516/516 [==============================] - 1s 2ms/step - loss: 4.9070 - mae: 1.8899 - val_loss: 4.8104 - val_mae: 1.8725\n",
            "Epoch 5/150\n",
            "516/516 [==============================] - 1s 2ms/step - loss: 4.7314 - mae: 1.8423 - val_loss: 4.6205 - val_mae: 1.8208\n",
            "Epoch 6/150\n",
            "516/516 [==============================] - 1s 2ms/step - loss: 4.5543 - mae: 1.7935 - val_loss: 4.4311 - val_mae: 1.7679\n",
            "Epoch 7/150\n",
            "516/516 [==============================] - 2s 3ms/step - loss: 4.3728 - mae: 1.7420 - val_loss: 4.2399 - val_mae: 1.7129\n",
            "Epoch 8/150\n",
            "516/516 [==============================] - 1s 3ms/step - loss: 4.1870 - mae: 1.6881 - val_loss: 4.0453 - val_mae: 1.6556\n",
            "Epoch 9/150\n",
            "516/516 [==============================] - 1s 2ms/step - loss: 3.9977 - mae: 1.6321 - val_loss: 3.8480 - val_mae: 1.5961\n",
            "Epoch 10/150\n",
            "516/516 [==============================] - 1s 2ms/step - loss: 3.8059 - mae: 1.5741 - val_loss: 3.6491 - val_mae: 1.5351\n",
            "Epoch 11/150\n",
            "516/516 [==============================] - 1s 2ms/step - loss: 3.6117 - mae: 1.5148 - val_loss: 3.4488 - val_mae: 1.4734\n",
            "Epoch 12/150\n",
            "516/516 [==============================] - 1s 2ms/step - loss: 3.4159 - mae: 1.4542 - val_loss: 3.2477 - val_mae: 1.4111\n",
            "Epoch 13/150\n",
            "516/516 [==============================] - 1s 2ms/step - loss: 3.2199 - mae: 1.3932 - val_loss: 3.0477 - val_mae: 1.3489\n",
            "Epoch 14/150\n",
            "516/516 [==============================] - 1s 2ms/step - loss: 3.0256 - mae: 1.3333 - val_loss: 2.8509 - val_mae: 1.2875\n",
            "Epoch 15/150\n",
            "516/516 [==============================] - 1s 2ms/step - loss: 2.8355 - mae: 1.2749 - val_loss: 2.6596 - val_mae: 1.2281\n",
            "Epoch 16/150\n",
            "516/516 [==============================] - 1s 2ms/step - loss: 2.6514 - mae: 1.2193 - val_loss: 2.4757 - val_mae: 1.1712\n",
            "Epoch 17/150\n",
            "516/516 [==============================] - 1s 3ms/step - loss: 2.4749 - mae: 1.1665 - val_loss: 2.3004 - val_mae: 1.1174\n",
            "Epoch 18/150\n",
            "516/516 [==============================] - 2s 3ms/step - loss: 2.3078 - mae: 1.1173 - val_loss: 2.1370 - val_mae: 1.0680\n",
            "Epoch 19/150\n",
            "516/516 [==============================] - 2s 3ms/step - loss: 2.1522 - mae: 1.0722 - val_loss: 1.9869 - val_mae: 1.0236\n",
            "Epoch 20/150\n",
            "516/516 [==============================] - 1s 2ms/step - loss: 2.0097 - mae: 1.0321 - val_loss: 1.8518 - val_mae: 0.9852\n",
            "Epoch 21/150\n",
            "516/516 [==============================] - 1s 2ms/step - loss: 1.8817 - mae: 0.9974 - val_loss: 1.7332 - val_mae: 0.9548\n",
            "Epoch 22/150\n",
            "516/516 [==============================] - 1s 2ms/step - loss: 1.7694 - mae: 0.9689 - val_loss: 1.6327 - val_mae: 0.9322\n",
            "Epoch 23/150\n",
            "516/516 [==============================] - 1s 2ms/step - loss: 1.6742 - mae: 0.9472 - val_loss: 1.5511 - val_mae: 0.9167\n",
            "Epoch 24/150\n",
            "516/516 [==============================] - 1s 2ms/step - loss: 1.5964 - mae: 0.9322 - val_loss: 1.4878 - val_mae: 0.9076\n",
            "Epoch 25/150\n",
            "516/516 [==============================] - 1s 2ms/step - loss: 1.5359 - mae: 0.9232 - val_loss: 1.4423 - val_mae: 0.9044\n",
            "Epoch 26/150\n",
            "516/516 [==============================] - 1s 2ms/step - loss: 1.4913 - mae: 0.9189 - val_loss: 1.4116 - val_mae: 0.9057\n",
            "Epoch 27/150\n",
            "516/516 [==============================] - 1s 2ms/step - loss: 1.4602 - mae: 0.9187 - val_loss: 1.3933 - val_mae: 0.9099\n",
            "Epoch 28/150\n",
            "516/516 [==============================] - 2s 3ms/step - loss: 1.4397 - mae: 0.9205 - val_loss: 1.3828 - val_mae: 0.9149\n",
            "Epoch 29/150\n",
            "516/516 [==============================] - 2s 3ms/step - loss: 1.4264 - mae: 0.9231 - val_loss: 1.3767 - val_mae: 0.9192\n",
            "Epoch 30/150\n",
            "516/516 [==============================] - 1s 2ms/step - loss: 1.4174 - mae: 0.9251 - val_loss: 1.3725 - val_mae: 0.9222\n",
            "Epoch 31/150\n",
            "516/516 [==============================] - 1s 2ms/step - loss: 1.4105 - mae: 0.9264 - val_loss: 1.3686 - val_mae: 0.9236\n",
            "Epoch 32/150\n",
            "516/516 [==============================] - 1s 2ms/step - loss: 1.4045 - mae: 0.9268 - val_loss: 1.3645 - val_mae: 0.9244\n",
            "Epoch 33/150\n",
            "516/516 [==============================] - 1s 2ms/step - loss: 1.3988 - mae: 0.9260 - val_loss: 1.3602 - val_mae: 0.9243\n",
            "Epoch 34/150\n",
            "516/516 [==============================] - 1s 2ms/step - loss: 1.3933 - mae: 0.9255 - val_loss: 1.3556 - val_mae: 0.9236\n",
            "Epoch 35/150\n",
            "516/516 [==============================] - 1s 2ms/step - loss: 1.3880 - mae: 0.9246 - val_loss: 1.3506 - val_mae: 0.9221\n",
            "Epoch 36/150\n",
            "516/516 [==============================] - 1s 2ms/step - loss: 1.3827 - mae: 0.9231 - val_loss: 1.3457 - val_mae: 0.9208\n",
            "Epoch 37/150\n",
            "516/516 [==============================] - 1s 2ms/step - loss: 1.3775 - mae: 0.9217 - val_loss: 1.3407 - val_mae: 0.9192\n",
            "Epoch 38/150\n",
            "516/516 [==============================] - 2s 3ms/step - loss: 1.3723 - mae: 0.9202 - val_loss: 1.3356 - val_mae: 0.9176\n",
            "Epoch 39/150\n",
            "516/516 [==============================] - 2s 3ms/step - loss: 1.3672 - mae: 0.9187 - val_loss: 1.3305 - val_mae: 0.9158\n",
            "Epoch 40/150\n",
            "516/516 [==============================] - 1s 2ms/step - loss: 1.3622 - mae: 0.9170 - val_loss: 1.3256 - val_mae: 0.9143\n",
            "Epoch 41/150\n",
            "516/516 [==============================] - 1s 2ms/step - loss: 1.3571 - mae: 0.9154 - val_loss: 1.3205 - val_mae: 0.9126\n",
            "Epoch 42/150\n",
            "516/516 [==============================] - 1s 2ms/step - loss: 1.3520 - mae: 0.9143 - val_loss: 1.3152 - val_mae: 0.9106\n",
            "Epoch 43/150\n",
            "516/516 [==============================] - 1s 2ms/step - loss: 1.3469 - mae: 0.9124 - val_loss: 1.3097 - val_mae: 0.9081\n",
            "Epoch 44/150\n",
            "516/516 [==============================] - 1s 2ms/step - loss: 1.3418 - mae: 0.9103 - val_loss: 1.3046 - val_mae: 0.9064\n",
            "Epoch 45/150\n",
            "516/516 [==============================] - 1s 2ms/step - loss: 1.3365 - mae: 0.9091 - val_loss: 1.2991 - val_mae: 0.9040\n",
            "Epoch 46/150\n",
            "516/516 [==============================] - 1s 2ms/step - loss: 1.3312 - mae: 0.9066 - val_loss: 1.2939 - val_mae: 0.9021\n",
            "Epoch 47/150\n",
            "516/516 [==============================] - 1s 2ms/step - loss: 1.3259 - mae: 0.9051 - val_loss: 1.2886 - val_mae: 0.9001\n",
            "Epoch 48/150\n",
            "516/516 [==============================] - 1s 2ms/step - loss: 1.3205 - mae: 0.9036 - val_loss: 1.2833 - val_mae: 0.8980\n",
            "Epoch 49/150\n",
            "516/516 [==============================] - 2s 3ms/step - loss: 1.3151 - mae: 0.9013 - val_loss: 1.2779 - val_mae: 0.8959\n",
            "Epoch 50/150\n",
            "516/516 [==============================] - 1s 3ms/step - loss: 1.3096 - mae: 0.8997 - val_loss: 1.2726 - val_mae: 0.8939\n",
            "Epoch 51/150\n",
            "516/516 [==============================] - 1s 2ms/step - loss: 1.3041 - mae: 0.8973 - val_loss: 1.2673 - val_mae: 0.8920\n",
            "Epoch 52/150\n",
            "516/516 [==============================] - 1s 2ms/step - loss: 1.2986 - mae: 0.8960 - val_loss: 1.2619 - val_mae: 0.8900\n",
            "Epoch 53/150\n",
            "516/516 [==============================] - 1s 3ms/step - loss: 1.2930 - mae: 0.8936 - val_loss: 1.2566 - val_mae: 0.8882\n",
            "Epoch 54/150\n",
            "516/516 [==============================] - 2s 3ms/step - loss: 1.2874 - mae: 0.8919 - val_loss: 1.2511 - val_mae: 0.8861\n",
            "Epoch 55/150\n",
            "516/516 [==============================] - 1s 2ms/step - loss: 1.2817 - mae: 0.8902 - val_loss: 1.2457 - val_mae: 0.8841\n",
            "Epoch 56/150\n",
            "516/516 [==============================] - 1s 2ms/step - loss: 1.2761 - mae: 0.8883 - val_loss: 1.2402 - val_mae: 0.8818\n",
            "Epoch 57/150\n",
            "516/516 [==============================] - 1s 2ms/step - loss: 1.2704 - mae: 0.8860 - val_loss: 1.2350 - val_mae: 0.8803\n",
            "Epoch 58/150\n",
            "516/516 [==============================] - 1s 3ms/step - loss: 1.2647 - mae: 0.8843 - val_loss: 1.2295 - val_mae: 0.8781\n",
            "Epoch 59/150\n",
            "516/516 [==============================] - 2s 3ms/step - loss: 1.2589 - mae: 0.8824 - val_loss: 1.2241 - val_mae: 0.8761\n",
            "Epoch 60/150\n",
            "516/516 [==============================] - 1s 2ms/step - loss: 1.2531 - mae: 0.8804 - val_loss: 1.2187 - val_mae: 0.8742\n",
            "Epoch 61/150\n",
            "516/516 [==============================] - 1s 2ms/step - loss: 1.2472 - mae: 0.8786 - val_loss: 1.2133 - val_mae: 0.8720\n",
            "Epoch 62/150\n",
            "516/516 [==============================] - 1s 2ms/step - loss: 1.2413 - mae: 0.8767 - val_loss: 1.2078 - val_mae: 0.8698\n",
            "Epoch 63/150\n",
            "516/516 [==============================] - 1s 2ms/step - loss: 1.2355 - mae: 0.8747 - val_loss: 1.2024 - val_mae: 0.8676\n",
            "Epoch 64/150\n",
            "516/516 [==============================] - 1s 2ms/step - loss: 1.2296 - mae: 0.8726 - val_loss: 1.1970 - val_mae: 0.8655\n",
            "Epoch 65/150\n",
            "516/516 [==============================] - 1s 2ms/step - loss: 1.2238 - mae: 0.8700 - val_loss: 1.1918 - val_mae: 0.8640\n",
            "Epoch 66/150\n",
            "516/516 [==============================] - 1s 2ms/step - loss: 1.2180 - mae: 0.8692 - val_loss: 1.1864 - val_mae: 0.8619\n",
            "Epoch 67/150\n",
            "516/516 [==============================] - 1s 2ms/step - loss: 1.2122 - mae: 0.8665 - val_loss: 1.1810 - val_mae: 0.8598\n",
            "Epoch 68/150\n",
            "516/516 [==============================] - 1s 3ms/step - loss: 1.2065 - mae: 0.8645 - val_loss: 1.1757 - val_mae: 0.8581\n",
            "Epoch 69/150\n",
            "516/516 [==============================] - 2s 3ms/step - loss: 1.2008 - mae: 0.8630 - val_loss: 1.1703 - val_mae: 0.8563\n",
            "Epoch 70/150\n",
            "516/516 [==============================] - 1s 3ms/step - loss: 1.1951 - mae: 0.8611 - val_loss: 1.1649 - val_mae: 0.8542\n",
            "Epoch 71/150\n",
            "516/516 [==============================] - 1s 2ms/step - loss: 1.1894 - mae: 0.8594 - val_loss: 1.1594 - val_mae: 0.8517\n",
            "Epoch 72/150\n",
            "516/516 [==============================] - 1s 2ms/step - loss: 1.1836 - mae: 0.8567 - val_loss: 1.1539 - val_mae: 0.8499\n",
            "Epoch 73/150\n",
            "516/516 [==============================] - 1s 2ms/step - loss: 1.1778 - mae: 0.8547 - val_loss: 1.1485 - val_mae: 0.8481\n",
            "Epoch 74/150\n",
            "516/516 [==============================] - 1s 2ms/step - loss: 1.1720 - mae: 0.8535 - val_loss: 1.1428 - val_mae: 0.8457\n",
            "Epoch 75/150\n",
            "516/516 [==============================] - 1s 2ms/step - loss: 1.1662 - mae: 0.8509 - val_loss: 1.1373 - val_mae: 0.8436\n",
            "Epoch 76/150\n",
            "516/516 [==============================] - 1s 2ms/step - loss: 1.1603 - mae: 0.8490 - val_loss: 1.1317 - val_mae: 0.8413\n",
            "Epoch 77/150\n",
            "516/516 [==============================] - 1s 2ms/step - loss: 1.1545 - mae: 0.8467 - val_loss: 1.1261 - val_mae: 0.8395\n",
            "Epoch 78/150\n",
            "516/516 [==============================] - 1s 2ms/step - loss: 1.1486 - mae: 0.8448 - val_loss: 1.1203 - val_mae: 0.8371\n",
            "Epoch 79/150\n",
            "516/516 [==============================] - 1s 3ms/step - loss: 1.1426 - mae: 0.8424 - val_loss: 1.1147 - val_mae: 0.8353\n",
            "Epoch 80/150\n",
            "516/516 [==============================] - 2s 3ms/step - loss: 1.1366 - mae: 0.8408 - val_loss: 1.1089 - val_mae: 0.8328\n",
            "Epoch 81/150\n",
            "516/516 [==============================] - 2s 3ms/step - loss: 1.1306 - mae: 0.8383 - val_loss: 1.1032 - val_mae: 0.8307\n",
            "Epoch 82/150\n",
            "516/516 [==============================] - 1s 2ms/step - loss: 1.1246 - mae: 0.8364 - val_loss: 1.0973 - val_mae: 0.8281\n",
            "Epoch 83/150\n",
            "516/516 [==============================] - 1s 2ms/step - loss: 1.1185 - mae: 0.8339 - val_loss: 1.0915 - val_mae: 0.8260\n",
            "Epoch 84/150\n",
            "516/516 [==============================] - 1s 2ms/step - loss: 1.1124 - mae: 0.8316 - val_loss: 1.0856 - val_mae: 0.8237\n",
            "Epoch 85/150\n",
            "516/516 [==============================] - 1s 2ms/step - loss: 1.1062 - mae: 0.8296 - val_loss: 1.0796 - val_mae: 0.8214\n",
            "Epoch 86/150\n",
            "516/516 [==============================] - 1s 2ms/step - loss: 1.0999 - mae: 0.8273 - val_loss: 1.0736 - val_mae: 0.8188\n",
            "Epoch 87/150\n",
            "516/516 [==============================] - 1s 2ms/step - loss: 1.0936 - mae: 0.8247 - val_loss: 1.0675 - val_mae: 0.8164\n",
            "Epoch 88/150\n",
            "516/516 [==============================] - 1s 2ms/step - loss: 1.0872 - mae: 0.8224 - val_loss: 1.0614 - val_mae: 0.8141\n",
            "Epoch 89/150\n",
            "516/516 [==============================] - 2s 3ms/step - loss: 1.0809 - mae: 0.8199 - val_loss: 1.0553 - val_mae: 0.8117\n",
            "Epoch 90/150\n",
            "516/516 [==============================] - 2s 3ms/step - loss: 1.0744 - mae: 0.8179 - val_loss: 1.0489 - val_mae: 0.8088\n",
            "Epoch 91/150\n",
            "516/516 [==============================] - 1s 2ms/step - loss: 1.0678 - mae: 0.8152 - val_loss: 1.0426 - val_mae: 0.8064\n",
            "Epoch 92/150\n",
            "516/516 [==============================] - 1s 2ms/step - loss: 1.0612 - mae: 0.8126 - val_loss: 1.0363 - val_mae: 0.8038\n",
            "Epoch 93/150\n",
            "516/516 [==============================] - 1s 2ms/step - loss: 1.0546 - mae: 0.8100 - val_loss: 1.0299 - val_mae: 0.8012\n",
            "Epoch 94/150\n",
            "516/516 [==============================] - 1s 2ms/step - loss: 1.0479 - mae: 0.8075 - val_loss: 1.0235 - val_mae: 0.7986\n",
            "Epoch 95/150\n",
            "516/516 [==============================] - 1s 2ms/step - loss: 1.0412 - mae: 0.8046 - val_loss: 1.0170 - val_mae: 0.7960\n",
            "Epoch 96/150\n",
            "516/516 [==============================] - 1s 2ms/step - loss: 1.0344 - mae: 0.8027 - val_loss: 1.0104 - val_mae: 0.7931\n",
            "Epoch 97/150\n",
            "516/516 [==============================] - 1s 2ms/step - loss: 1.0275 - mae: 0.7997 - val_loss: 1.0038 - val_mae: 0.7901\n",
            "Epoch 98/150\n",
            "516/516 [==============================] - 1s 2ms/step - loss: 1.0206 - mae: 0.7968 - val_loss: 0.9971 - val_mae: 0.7873\n",
            "Epoch 99/150\n",
            "516/516 [==============================] - 1s 2ms/step - loss: 1.0135 - mae: 0.7937 - val_loss: 0.9903 - val_mae: 0.7844\n",
            "Epoch 100/150\n",
            "516/516 [==============================] - 1s 3ms/step - loss: 1.0064 - mae: 0.7918 - val_loss: 0.9834 - val_mae: 0.7807\n",
            "Epoch 101/150\n",
            "516/516 [==============================] - 2s 3ms/step - loss: 0.9992 - mae: 0.7881 - val_loss: 0.9764 - val_mae: 0.7776\n",
            "Epoch 102/150\n",
            "516/516 [==============================] - 1s 2ms/step - loss: 0.9918 - mae: 0.7846 - val_loss: 0.9693 - val_mae: 0.7751\n",
            "Epoch 103/150\n",
            "516/516 [==============================] - 1s 2ms/step - loss: 0.9844 - mae: 0.7826 - val_loss: 0.9622 - val_mae: 0.7710\n",
            "Epoch 104/150\n",
            "516/516 [==============================] - 1s 2ms/step - loss: 0.9769 - mae: 0.7789 - val_loss: 0.9550 - val_mae: 0.7677\n",
            "Epoch 105/150\n",
            "516/516 [==============================] - 1s 2ms/step - loss: 0.9693 - mae: 0.7753 - val_loss: 0.9477 - val_mae: 0.7644\n",
            "Epoch 106/150\n",
            "516/516 [==============================] - 1s 2ms/step - loss: 0.9616 - mae: 0.7721 - val_loss: 0.9403 - val_mae: 0.7610\n",
            "Epoch 107/150\n",
            "516/516 [==============================] - 1s 2ms/step - loss: 0.9537 - mae: 0.7689 - val_loss: 0.9328 - val_mae: 0.7573\n",
            "Epoch 108/150\n",
            "516/516 [==============================] - 1s 2ms/step - loss: 0.9458 - mae: 0.7651 - val_loss: 0.9251 - val_mae: 0.7538\n",
            "Epoch 109/150\n",
            "516/516 [==============================] - 1s 2ms/step - loss: 0.9377 - mae: 0.7622 - val_loss: 0.9173 - val_mae: 0.7498\n",
            "Epoch 110/150\n",
            "516/516 [==============================] - 2s 3ms/step - loss: 0.9294 - mae: 0.7577 - val_loss: 0.9094 - val_mae: 0.7459\n",
            "Epoch 111/150\n",
            "516/516 [==============================] - 2s 3ms/step - loss: 0.9209 - mae: 0.7537 - val_loss: 0.9012 - val_mae: 0.7421\n",
            "Epoch 112/150\n",
            "516/516 [==============================] - 1s 2ms/step - loss: 0.9121 - mae: 0.7509 - val_loss: 0.8928 - val_mae: 0.7370\n",
            "Epoch 113/150\n",
            "516/516 [==============================] - 1s 2ms/step - loss: 0.9031 - mae: 0.7461 - val_loss: 0.8842 - val_mae: 0.7324\n",
            "Epoch 114/150\n",
            "516/516 [==============================] - 1s 3ms/step - loss: 0.8939 - mae: 0.7413 - val_loss: 0.8754 - val_mae: 0.7282\n",
            "Epoch 115/150\n",
            "516/516 [==============================] - 1s 3ms/step - loss: 0.8845 - mae: 0.7376 - val_loss: 0.8667 - val_mae: 0.7231\n",
            "Epoch 116/150\n",
            "516/516 [==============================] - 1s 3ms/step - loss: 0.8749 - mae: 0.7330 - val_loss: 0.8578 - val_mae: 0.7184\n",
            "Epoch 117/150\n",
            "516/516 [==============================] - 1s 3ms/step - loss: 0.8650 - mae: 0.7280 - val_loss: 0.8487 - val_mae: 0.7133\n",
            "Epoch 118/150\n",
            "516/516 [==============================] - 1s 2ms/step - loss: 0.8551 - mae: 0.7232 - val_loss: 0.8397 - val_mae: 0.7086\n",
            "Epoch 119/150\n",
            "516/516 [==============================] - 1s 3ms/step - loss: 0.8453 - mae: 0.7185 - val_loss: 0.8307 - val_mae: 0.7043\n",
            "Epoch 120/150\n",
            "516/516 [==============================] - 2s 3ms/step - loss: 0.8356 - mae: 0.7147 - val_loss: 0.8224 - val_mae: 0.6992\n",
            "Epoch 121/150\n",
            "516/516 [==============================] - 2s 3ms/step - loss: 0.8261 - mae: 0.7093 - val_loss: 0.8135 - val_mae: 0.6953\n",
            "Epoch 122/150\n",
            "516/516 [==============================] - 1s 2ms/step - loss: 0.8168 - mae: 0.7051 - val_loss: 0.8052 - val_mae: 0.6910\n",
            "Epoch 123/150\n",
            "516/516 [==============================] - 1s 2ms/step - loss: 0.8077 - mae: 0.7009 - val_loss: 0.7968 - val_mae: 0.6868\n",
            "Epoch 124/150\n",
            "516/516 [==============================] - 1s 2ms/step - loss: 0.7987 - mae: 0.6966 - val_loss: 0.7887 - val_mae: 0.6822\n",
            "Epoch 125/150\n",
            "516/516 [==============================] - 1s 2ms/step - loss: 0.7896 - mae: 0.6923 - val_loss: 0.7804 - val_mae: 0.6779\n",
            "Epoch 126/150\n",
            "516/516 [==============================] - 1s 2ms/step - loss: 0.7807 - mae: 0.6876 - val_loss: 0.7722 - val_mae: 0.6736\n",
            "Epoch 127/150\n",
            "516/516 [==============================] - 1s 2ms/step - loss: 0.7719 - mae: 0.6831 - val_loss: 0.7642 - val_mae: 0.6692\n",
            "Epoch 128/150\n",
            "516/516 [==============================] - 1s 2ms/step - loss: 0.7632 - mae: 0.6785 - val_loss: 0.7561 - val_mae: 0.6652\n",
            "Epoch 129/150\n",
            "516/516 [==============================] - 1s 3ms/step - loss: 0.7547 - mae: 0.6746 - val_loss: 0.7485 - val_mae: 0.6606\n",
            "Epoch 130/150\n",
            "516/516 [==============================] - 2s 3ms/step - loss: 0.7461 - mae: 0.6692 - val_loss: 0.7402 - val_mae: 0.6573\n",
            "Epoch 131/150\n",
            "516/516 [==============================] - 2s 3ms/step - loss: 0.7378 - mae: 0.6662 - val_loss: 0.7333 - val_mae: 0.6521\n",
            "Epoch 132/150\n",
            "516/516 [==============================] - 1s 2ms/step - loss: 0.7296 - mae: 0.6610 - val_loss: 0.7260 - val_mae: 0.6479\n",
            "Epoch 133/150\n",
            "516/516 [==============================] - 1s 2ms/step - loss: 0.7215 - mae: 0.6572 - val_loss: 0.7192 - val_mae: 0.6434\n",
            "Epoch 134/150\n",
            "516/516 [==============================] - 1s 2ms/step - loss: 0.7135 - mae: 0.6518 - val_loss: 0.7117 - val_mae: 0.6401\n",
            "Epoch 135/150\n",
            "516/516 [==============================] - 1s 2ms/step - loss: 0.7057 - mae: 0.6484 - val_loss: 0.7052 - val_mae: 0.6358\n",
            "Epoch 136/150\n",
            "516/516 [==============================] - 1s 2ms/step - loss: 0.6979 - mae: 0.6443 - val_loss: 0.6988 - val_mae: 0.6316\n",
            "Epoch 137/150\n",
            "516/516 [==============================] - 1s 2ms/step - loss: 0.6904 - mae: 0.6391 - val_loss: 0.6921 - val_mae: 0.6283\n",
            "Epoch 138/150\n",
            "516/516 [==============================] - 1s 2ms/step - loss: 0.6832 - mae: 0.6360 - val_loss: 0.6861 - val_mae: 0.6243\n",
            "Epoch 139/150\n",
            "516/516 [==============================] - 1s 2ms/step - loss: 0.6762 - mae: 0.6318 - val_loss: 0.6803 - val_mae: 0.6207\n",
            "Epoch 140/150\n",
            "516/516 [==============================] - 2s 3ms/step - loss: 0.6694 - mae: 0.6276 - val_loss: 0.6745 - val_mae: 0.6173\n",
            "Epoch 141/150\n",
            "516/516 [==============================] - 2s 3ms/step - loss: 0.6628 - mae: 0.6236 - val_loss: 0.6687 - val_mae: 0.6140\n",
            "Epoch 142/150\n",
            "516/516 [==============================] - 1s 2ms/step - loss: 0.6565 - mae: 0.6213 - val_loss: 0.6642 - val_mae: 0.6099\n",
            "Epoch 143/150\n",
            "516/516 [==============================] - 1s 2ms/step - loss: 0.6504 - mae: 0.6163 - val_loss: 0.6583 - val_mae: 0.6074\n",
            "Epoch 144/150\n",
            "516/516 [==============================] - 1s 2ms/step - loss: 0.6445 - mae: 0.6132 - val_loss: 0.6534 - val_mae: 0.6042\n",
            "Epoch 145/150\n",
            "516/516 [==============================] - 1s 2ms/step - loss: 0.6389 - mae: 0.6099 - val_loss: 0.6489 - val_mae: 0.6010\n",
            "Epoch 146/150\n",
            "516/516 [==============================] - 1s 2ms/step - loss: 0.6335 - mae: 0.6065 - val_loss: 0.6442 - val_mae: 0.5983\n",
            "Epoch 147/150\n",
            "516/516 [==============================] - 1s 2ms/step - loss: 0.6284 - mae: 0.6044 - val_loss: 0.6409 - val_mae: 0.5946\n",
            "Epoch 148/150\n",
            "516/516 [==============================] - 1s 2ms/step - loss: 0.6235 - mae: 0.6000 - val_loss: 0.6364 - val_mae: 0.5923\n",
            "Epoch 149/150\n",
            "516/516 [==============================] - 1s 2ms/step - loss: 0.6189 - mae: 0.5978 - val_loss: 0.6330 - val_mae: 0.5894\n",
            "Epoch 150/150\n",
            "516/516 [==============================] - 1s 3ms/step - loss: 0.6146 - mae: 0.5952 - val_loss: 0.6299 - val_mae: 0.5866\n"
          ]
        },
        {
          "output_type": "execute_result",
          "data": {
            "text/plain": [
              "<keras.callbacks.History at 0x7fb0656592b0>"
            ]
          },
          "metadata": {},
          "execution_count": 5
        }
      ]
    },
    {
      "cell_type": "markdown",
      "source": [
        "#### 1.5. сделаем вывод, хорошо ли модель обучается?\n",
        "\n",
        "Если модель обучается плохо, можете внести изменения в работу."
      ],
      "metadata": {
        "id": "EZaZYI7jULuL"
      }
    },
    {
      "cell_type": "markdown",
      "source": [
        "#### 1.6. Сделаем  предсказания на тестовых данных"
      ],
      "metadata": {
        "id": "mvlGXR3yVMYo"
      }
    },
    {
      "cell_type": "code",
      "source": [
        "print(model.predict(X_norm_test))"
      ],
      "metadata": {
        "id": "gW7-vtIsVPdV",
        "colab": {
          "base_uri": "https://localhost:8080/"
        },
        "outputId": "0e6da80d-a93e-476d-ed19-583130431d2d"
      },
      "execution_count": null,
      "outputs": [
        {
          "output_type": "stream",
          "name": "stdout",
          "text": [
            "129/129 [==============================] - 0s 1ms/step\n",
            "[[2.0735815]\n",
            " [2.783312 ]\n",
            " [2.0178747]\n",
            " ...\n",
            " [1.0781436]\n",
            " [2.5433729]\n",
            " [2.2876968]]\n"
          ]
        }
      ]
    },
    {
      "cell_type": "markdown",
      "source": [
        "#### 1.7. посчитаем метрику качества на тестовых данных"
      ],
      "metadata": {
        "id": "NLsmmLVkVhkL"
      }
    },
    {
      "cell_type": "code",
      "source": [
        "mse_nn, mae_nn = model.evaluate(X_norm_test, y_test)\n",
        "\n",
        "print('Mean squared error on test data: ', mse_nn)\n",
        "print('Mean absolute error on test data: ', mae_nn)"
      ],
      "metadata": {
        "id": "SEu1V0AmVTUr",
        "colab": {
          "base_uri": "https://localhost:8080/"
        },
        "outputId": "43a68911-d7f4-4a03-c061-8ce6836e008e"
      },
      "execution_count": null,
      "outputs": [
        {
          "output_type": "stream",
          "name": "stdout",
          "text": [
            "129/129 [==============================] - 0s 1ms/step - loss: 0.6299 - mae: 0.5866\n",
            "Mean squared error on test data:  0.6299435496330261\n",
            "Mean absolute error on test data:  0.5866469144821167\n"
          ]
        }
      ]
    },
    {
      "cell_type": "markdown",
      "source": [
        "# Здание 2"
      ],
      "metadata": {
        "id": "QYdvgVNHsJIZ"
      }
    },
    {
      "cell_type": "code",
      "source": [
        "# импортируем бэкенд Agg из matplotlib для сохранения графиков на диск\n",
        "import matplotlib\n",
        "matplotlib.use(\"Agg\")"
      ],
      "metadata": {
        "id": "6Ss7_VGiiMq-"
      },
      "execution_count": 224,
      "outputs": []
    },
    {
      "cell_type": "code",
      "source": [
        "# Подключаем необходимые модули и пакеты\n",
        "from sklearn.preprocessing import LabelBinarizer\n",
        "from sklearn.model_selection import train_test_split\n",
        "from sklearn.metrics import classification_report\n",
        "from keras.models import Sequential\n",
        "from keras.layers.core import Dense\n",
        "from keras.optimizers import SGD\n",
        "from imutils import paths\n",
        "import matplotlib.pyplot as plt\n",
        "import numpy as np\n",
        "import random\n",
        "import pickle\n",
        "import cv2\n",
        "from google.colab.patches import cv2_imshow\n",
        "import os"
      ],
      "metadata": {
        "id": "9JEGiOf0sTaa"
      },
      "execution_count": 225,
      "outputs": []
    },
    {
      "cell_type": "code",
      "source": [
        "# инициализируем данные и метки\n",
        "print(\"[INFO] loading images...\")\n",
        "data = []\n",
        "labels = []"
      ],
      "metadata": {
        "colab": {
          "base_uri": "https://localhost:8080/"
        },
        "id": "o0m6FLZVsnUm",
        "outputId": "bae0c702-189d-49cd-96ab-41a630040b38"
      },
      "execution_count": 226,
      "outputs": [
        {
          "output_type": "stream",
          "name": "stdout",
          "text": [
            "[INFO] loading images...\n"
          ]
        }
      ]
    },
    {
      "cell_type": "code",
      "source": [
        "# Собираем список путей к каждому изображению и перемешиваем их\n",
        "imagePaths = sorted(list(paths.list_images(\"/content/Dataset\")))\n",
        "\n",
        "random.shuffle(imagePaths)"
      ],
      "metadata": {
        "id": "pLiVTuPQxvZi"
      },
      "execution_count": 227,
      "outputs": []
    },
    {
      "cell_type": "code",
      "source": [
        "# цикл по изображениям\n",
        "for imagePath in imagePaths:\n",
        "\t\n",
        "\timage = cv2.imread(imagePath)\n",
        "\timage = cv2.resize(image, (32, 32)).flatten() \n",
        "\tdata.append(image) \n",
        "\n",
        "\tlabel = imagePath.split(os.path.sep)[-2] \t\n",
        "\tlabels.append(label) "
      ],
      "metadata": {
        "id": "Kuh-iZhOx13g"
      },
      "execution_count": 229,
      "outputs": []
    },
    {
      "cell_type": "code",
      "source": [
        "# масштабируем интенсивности пикселей в диапазон [0, 1] (Нормализация данных)\n",
        "data = np.array(data, dtype=\"float\") / 255.0\n",
        "labels = np.array(labels)"
      ],
      "metadata": {
        "id": "l6jHsbf-yB0i"
      },
      "execution_count": 230,
      "outputs": []
    },
    {
      "cell_type": "code",
      "source": [
        "# разбиваем данные на обучающую и тестовую выборки, используя 75%\n",
        "# данных для обучения и оставшиеся 25% для тестирования\n",
        "(trainX, testX, trainY, testY) = train_test_split(data,\n",
        "\tlabels, test_size=0.25, random_state=42)"
      ],
      "metadata": {
        "id": "SC8BhrLZy2p1"
      },
      "execution_count": 231,
      "outputs": []
    },
    {
      "cell_type": "code",
      "source": [
        "# конвертируем метки из целых чисел в векторы (для 2х классов при\n",
        "# бинарной классификации вам следует использовать функцию Keras\n",
        "# \"to_categorical\" вместо \"LabelBinarizer\" из scikit-learn, которая не возвращает вектор)\n",
        "lb = LabelBinarizer()\n",
        "trainY = lb.fit_transform(trainY)\n",
        "testY = lb.transform(testY)"
      ],
      "metadata": {
        "id": "ghul2eg7y5Pj"
      },
      "execution_count": 232,
      "outputs": []
    },
    {
      "cell_type": "code",
      "source": [
        "# определим архитектуру 3072-1024-512-3 с помощью Keras\n",
        "model = Sequential()\n",
        "model.add(Dense(1024, input_shape=(3072,), activation=\"relu\"))\n",
        "model.add(Dense(512, activation=\"relu\"))\n",
        "model.add(Dense(len(lb.classes_), activation=\"softmax\"))"
      ],
      "metadata": {
        "id": "aMYptUgQy7jE"
      },
      "execution_count": 233,
      "outputs": []
    },
    {
      "cell_type": "code",
      "source": [
        "# инициализируем скорость обучения и общее число эпох\n",
        "INIT_LR = 0.01\n",
        "EPOCHS = 80"
      ],
      "metadata": {
        "id": "yRkKlHgqy997"
      },
      "execution_count": 234,
      "outputs": []
    },
    {
      "cell_type": "code",
      "source": [
        "# компилируем модель, используя SGD как оптимизатор и категориальную\n",
        "# кросс-энтропию в качестве функции потерь (для бинарной классификации\n",
        "# следует использовать binary_crossentropy)\n",
        "print(\"[INFO] training network...\")\n",
        "opt = SGD(lr=INIT_LR)\n",
        "model.compile(loss=\"categorical_crossentropy\", optimizer=opt,\n",
        "\tmetrics=[\"accuracy\"])"
      ],
      "metadata": {
        "colab": {
          "base_uri": "https://localhost:8080/"
        },
        "id": "2kDLUyT5zAJO",
        "outputId": "cc1a786a-fa40-46ae-dc42-0970630c7b68"
      },
      "execution_count": 235,
      "outputs": [
        {
          "output_type": "stream",
          "name": "stdout",
          "text": [
            "[INFO] training network...\n"
          ]
        },
        {
          "output_type": "stream",
          "name": "stderr",
          "text": [
            "/usr/local/lib/python3.9/dist-packages/keras/optimizers/legacy/gradient_descent.py:114: UserWarning: The `lr` argument is deprecated, use `learning_rate` instead.\n",
            "  super().__init__(name, **kwargs)\n"
          ]
        }
      ]
    },
    {
      "cell_type": "code",
      "source": [
        "# обучаем нейросеть\n",
        "H = model.fit(trainX, trainY, validation_data=(testX, testY),\n",
        "\tepochs=EPOCHS, batch_size=1000)"
      ],
      "metadata": {
        "colab": {
          "base_uri": "https://localhost:8080/"
        },
        "id": "U1gERj4YzDJk",
        "outputId": "935764ad-b9e9-402e-e6c3-f2993b5612e3"
      },
      "execution_count": 236,
      "outputs": [
        {
          "output_type": "stream",
          "name": "stdout",
          "text": [
            "Epoch 1/80\n",
            "4/4 [==============================] - 3s 618ms/step - loss: 1.0938 - accuracy: 0.3656 - val_loss: 1.0785 - val_accuracy: 0.4183\n",
            "Epoch 2/80\n",
            "4/4 [==============================] - 2s 480ms/step - loss: 1.0563 - accuracy: 0.4396 - val_loss: 1.0686 - val_accuracy: 0.4010\n",
            "Epoch 3/80\n",
            "4/4 [==============================] - 1s 301ms/step - loss: 1.0827 - accuracy: 0.4022 - val_loss: 1.0854 - val_accuracy: 0.3803\n",
            "Epoch 4/80\n",
            "4/4 [==============================] - 1s 298ms/step - loss: 1.0554 - accuracy: 0.4120 - val_loss: 1.0265 - val_accuracy: 0.4685\n",
            "Epoch 5/80\n",
            "4/4 [==============================] - 1s 348ms/step - loss: 1.0167 - accuracy: 0.4641 - val_loss: 1.0441 - val_accuracy: 0.4226\n",
            "Epoch 6/80\n",
            "4/4 [==============================] - 1s 348ms/step - loss: 1.0246 - accuracy: 0.4520 - val_loss: 1.0287 - val_accuracy: 0.4468\n",
            "Epoch 7/80\n",
            "4/4 [==============================] - 1s 343ms/step - loss: 1.0276 - accuracy: 0.4408 - val_loss: 1.0278 - val_accuracy: 0.4572\n",
            "Epoch 8/80\n",
            "4/4 [==============================] - 1s 293ms/step - loss: 1.0058 - accuracy: 0.4785 - val_loss: 0.9942 - val_accuracy: 0.5117\n",
            "Epoch 9/80\n",
            "4/4 [==============================] - 1s 347ms/step - loss: 0.9755 - accuracy: 0.5085 - val_loss: 0.9766 - val_accuracy: 0.5246\n",
            "Epoch 10/80\n",
            "4/4 [==============================] - 2s 412ms/step - loss: 0.9584 - accuracy: 0.5258 - val_loss: 0.9720 - val_accuracy: 0.5307\n",
            "Epoch 11/80\n",
            "4/4 [==============================] - 2s 516ms/step - loss: 0.9421 - accuracy: 0.5434 - val_loss: 0.9691 - val_accuracy: 0.5359\n",
            "Epoch 12/80\n",
            "4/4 [==============================] - 2s 500ms/step - loss: 0.9385 - accuracy: 0.5445 - val_loss: 0.9558 - val_accuracy: 0.5272\n",
            "Epoch 13/80\n",
            "4/4 [==============================] - 1s 292ms/step - loss: 0.9357 - accuracy: 0.5336 - val_loss: 0.9566 - val_accuracy: 0.5436\n",
            "Epoch 14/80\n",
            "4/4 [==============================] - 1s 345ms/step - loss: 0.9487 - accuracy: 0.5344 - val_loss: 1.0442 - val_accuracy: 0.4589\n",
            "Epoch 15/80\n",
            "4/4 [==============================] - 1s 294ms/step - loss: 1.0137 - accuracy: 0.4552 - val_loss: 1.0351 - val_accuracy: 0.4667\n",
            "Epoch 16/80\n",
            "4/4 [==============================] - 1s 345ms/step - loss: 1.0089 - accuracy: 0.4788 - val_loss: 0.9900 - val_accuracy: 0.5013\n",
            "Epoch 17/80\n",
            "4/4 [==============================] - 1s 295ms/step - loss: 0.9609 - accuracy: 0.5145 - val_loss: 0.9500 - val_accuracy: 0.5557\n",
            "Epoch 18/80\n",
            "4/4 [==============================] - 1s 288ms/step - loss: 0.9131 - accuracy: 0.5624 - val_loss: 0.9253 - val_accuracy: 0.5385\n",
            "Epoch 19/80\n",
            "4/4 [==============================] - 1s 344ms/step - loss: 0.9115 - accuracy: 0.5673 - val_loss: 0.9474 - val_accuracy: 0.4978\n",
            "Epoch 20/80\n",
            "4/4 [==============================] - 1s 344ms/step - loss: 0.9174 - accuracy: 0.5549 - val_loss: 0.9654 - val_accuracy: 0.4788\n",
            "Epoch 21/80\n",
            "4/4 [==============================] - 2s 495ms/step - loss: 0.9585 - accuracy: 0.5068 - val_loss: 1.0101 - val_accuracy: 0.4486\n",
            "Epoch 22/80\n",
            "4/4 [==============================] - 2s 517ms/step - loss: 0.9647 - accuracy: 0.5030 - val_loss: 0.9698 - val_accuracy: 0.4659\n",
            "Epoch 23/80\n",
            "4/4 [==============================] - 2s 479ms/step - loss: 0.9233 - accuracy: 0.5434 - val_loss: 0.9183 - val_accuracy: 0.5367\n",
            "Epoch 24/80\n",
            "4/4 [==============================] - 1s 342ms/step - loss: 0.8999 - accuracy: 0.5664 - val_loss: 0.9375 - val_accuracy: 0.5073\n",
            "Epoch 25/80\n",
            "4/4 [==============================] - 1s 293ms/step - loss: 0.8995 - accuracy: 0.5664 - val_loss: 0.9197 - val_accuracy: 0.5169\n",
            "Epoch 26/80\n",
            "4/4 [==============================] - 1s 345ms/step - loss: 0.8842 - accuracy: 0.5805 - val_loss: 0.9075 - val_accuracy: 0.5419\n",
            "Epoch 27/80\n",
            "4/4 [==============================] - 1s 297ms/step - loss: 0.8797 - accuracy: 0.5918 - val_loss: 0.9264 - val_accuracy: 0.5134\n",
            "Epoch 28/80\n",
            "4/4 [==============================] - 1s 294ms/step - loss: 0.9420 - accuracy: 0.5327 - val_loss: 0.9669 - val_accuracy: 0.4952\n",
            "Epoch 29/80\n",
            "4/4 [==============================] - 1s 290ms/step - loss: 0.9019 - accuracy: 0.5595 - val_loss: 0.9096 - val_accuracy: 0.5359\n",
            "Epoch 30/80\n",
            "4/4 [==============================] - 1s 340ms/step - loss: 0.8909 - accuracy: 0.5802 - val_loss: 0.9355 - val_accuracy: 0.5022\n",
            "Epoch 31/80\n",
            "4/4 [==============================] - 1s 297ms/step - loss: 0.8760 - accuracy: 0.5828 - val_loss: 0.8881 - val_accuracy: 0.5670\n",
            "Epoch 32/80\n",
            "4/4 [==============================] - 2s 497ms/step - loss: 0.8493 - accuracy: 0.6188 - val_loss: 0.8843 - val_accuracy: 0.5903\n",
            "Epoch 33/80\n",
            "4/4 [==============================] - 2s 509ms/step - loss: 0.8455 - accuracy: 0.6186 - val_loss: 0.8853 - val_accuracy: 0.5670\n",
            "Epoch 34/80\n",
            "4/4 [==============================] - 2s 519ms/step - loss: 0.8430 - accuracy: 0.6137 - val_loss: 0.8796 - val_accuracy: 0.5929\n",
            "Epoch 35/80\n",
            "4/4 [==============================] - 1s 293ms/step - loss: 0.8398 - accuracy: 0.6246 - val_loss: 0.8900 - val_accuracy: 0.5497\n",
            "Epoch 36/80\n",
            "4/4 [==============================] - 1s 334ms/step - loss: 0.8658 - accuracy: 0.5938 - val_loss: 0.9679 - val_accuracy: 0.4866\n",
            "Epoch 37/80\n",
            "4/4 [==============================] - 1s 348ms/step - loss: 0.9461 - accuracy: 0.5148 - val_loss: 0.9192 - val_accuracy: 0.5186\n",
            "Epoch 38/80\n",
            "4/4 [==============================] - 1s 297ms/step - loss: 0.8994 - accuracy: 0.5592 - val_loss: 0.9295 - val_accuracy: 0.5039\n",
            "Epoch 39/80\n",
            "4/4 [==============================] - 1s 297ms/step - loss: 0.9164 - accuracy: 0.5436 - val_loss: 0.9776 - val_accuracy: 0.4607\n",
            "Epoch 40/80\n",
            "4/4 [==============================] - 1s 339ms/step - loss: 0.9229 - accuracy: 0.5344 - val_loss: 0.9311 - val_accuracy: 0.5108\n",
            "Epoch 41/80\n",
            "4/4 [==============================] - 1s 343ms/step - loss: 0.8668 - accuracy: 0.5915 - val_loss: 0.8963 - val_accuracy: 0.5445\n",
            "Epoch 42/80\n",
            "4/4 [==============================] - 1s 353ms/step - loss: 0.8667 - accuracy: 0.5889 - val_loss: 0.8967 - val_accuracy: 0.5445\n",
            "Epoch 43/80\n",
            "4/4 [==============================] - 2s 532ms/step - loss: 0.8470 - accuracy: 0.6088 - val_loss: 0.8601 - val_accuracy: 0.5825\n",
            "Epoch 44/80\n",
            "4/4 [==============================] - 2s 500ms/step - loss: 0.8247 - accuracy: 0.6286 - val_loss: 0.8932 - val_accuracy: 0.5471\n",
            "Epoch 45/80\n",
            "4/4 [==============================] - 1s 309ms/step - loss: 0.8486 - accuracy: 0.6041 - val_loss: 0.9088 - val_accuracy: 0.5264\n",
            "Epoch 46/80\n",
            "4/4 [==============================] - 1s 296ms/step - loss: 0.8597 - accuracy: 0.5990 - val_loss: 0.8955 - val_accuracy: 0.5402\n",
            "Epoch 47/80\n",
            "4/4 [==============================] - 1s 295ms/step - loss: 0.8671 - accuracy: 0.5840 - val_loss: 0.9007 - val_accuracy: 0.5367\n",
            "Epoch 48/80\n",
            "4/4 [==============================] - 1s 295ms/step - loss: 0.8896 - accuracy: 0.5676 - val_loss: 0.9233 - val_accuracy: 0.5108\n",
            "Epoch 49/80\n",
            "4/4 [==============================] - 1s 301ms/step - loss: 0.8576 - accuracy: 0.5975 - val_loss: 0.8675 - val_accuracy: 0.5678\n",
            "Epoch 50/80\n",
            "4/4 [==============================] - 1s 293ms/step - loss: 0.8344 - accuracy: 0.6162 - val_loss: 0.8664 - val_accuracy: 0.5627\n",
            "Epoch 51/80\n",
            "4/4 [==============================] - 1s 344ms/step - loss: 0.8224 - accuracy: 0.6243 - val_loss: 0.8531 - val_accuracy: 0.5851\n",
            "Epoch 52/80\n",
            "4/4 [==============================] - 1s 346ms/step - loss: 0.8068 - accuracy: 0.6364 - val_loss: 0.8433 - val_accuracy: 0.6007\n",
            "Epoch 53/80\n",
            "4/4 [==============================] - 1s 378ms/step - loss: 0.8248 - accuracy: 0.6255 - val_loss: 0.9163 - val_accuracy: 0.5298\n",
            "Epoch 54/80\n",
            "4/4 [==============================] - 2s 532ms/step - loss: 0.8559 - accuracy: 0.5972 - val_loss: 0.8774 - val_accuracy: 0.5575\n",
            "Epoch 55/80\n",
            "4/4 [==============================] - 2s 518ms/step - loss: 0.8334 - accuracy: 0.6102 - val_loss: 0.8402 - val_accuracy: 0.5938\n",
            "Epoch 56/80\n",
            "4/4 [==============================] - 1s 295ms/step - loss: 0.7944 - accuracy: 0.6505 - val_loss: 0.8444 - val_accuracy: 0.5912\n",
            "Epoch 57/80\n",
            "4/4 [==============================] - 1s 292ms/step - loss: 0.7938 - accuracy: 0.6384 - val_loss: 0.8468 - val_accuracy: 0.5912\n",
            "Epoch 58/80\n",
            "4/4 [==============================] - 1s 339ms/step - loss: 0.7954 - accuracy: 0.6367 - val_loss: 0.8650 - val_accuracy: 0.5834\n",
            "Epoch 59/80\n",
            "4/4 [==============================] - 1s 296ms/step - loss: 0.8414 - accuracy: 0.6099 - val_loss: 0.9093 - val_accuracy: 0.5618\n",
            "Epoch 60/80\n",
            "4/4 [==============================] - 1s 294ms/step - loss: 0.8469 - accuracy: 0.6056 - val_loss: 0.8787 - val_accuracy: 0.5774\n",
            "Epoch 61/80\n",
            "4/4 [==============================] - 1s 297ms/step - loss: 0.8201 - accuracy: 0.6223 - val_loss: 0.8503 - val_accuracy: 0.6050\n",
            "Epoch 62/80\n",
            "4/4 [==============================] - 1s 293ms/step - loss: 0.8038 - accuracy: 0.6324 - val_loss: 0.9048 - val_accuracy: 0.5627\n",
            "Epoch 63/80\n",
            "4/4 [==============================] - 1s 343ms/step - loss: 0.8301 - accuracy: 0.6157 - val_loss: 0.8953 - val_accuracy: 0.5696\n",
            "Epoch 64/80\n",
            "4/4 [==============================] - 1s 381ms/step - loss: 0.8280 - accuracy: 0.6160 - val_loss: 0.8857 - val_accuracy: 0.5653\n",
            "Epoch 65/80\n",
            "4/4 [==============================] - 2s 527ms/step - loss: 0.8272 - accuracy: 0.6148 - val_loss: 0.8747 - val_accuracy: 0.5774\n",
            "Epoch 66/80\n",
            "4/4 [==============================] - 2s 509ms/step - loss: 0.7953 - accuracy: 0.6396 - val_loss: 0.8193 - val_accuracy: 0.6111\n",
            "Epoch 67/80\n",
            "4/4 [==============================] - 1s 293ms/step - loss: 0.7692 - accuracy: 0.6701 - val_loss: 0.8195 - val_accuracy: 0.6102\n",
            "Epoch 68/80\n",
            "4/4 [==============================] - 1s 345ms/step - loss: 0.7969 - accuracy: 0.6468 - val_loss: 0.8476 - val_accuracy: 0.5799\n",
            "Epoch 69/80\n",
            "4/4 [==============================] - 1s 293ms/step - loss: 0.8039 - accuracy: 0.6379 - val_loss: 0.8600 - val_accuracy: 0.5687\n",
            "Epoch 70/80\n",
            "4/4 [==============================] - 1s 345ms/step - loss: 0.8337 - accuracy: 0.6067 - val_loss: 0.8776 - val_accuracy: 0.5480\n",
            "Epoch 71/80\n",
            "4/4 [==============================] - 1s 344ms/step - loss: 0.8542 - accuracy: 0.5897 - val_loss: 0.8694 - val_accuracy: 0.5583\n",
            "Epoch 72/80\n",
            "4/4 [==============================] - 1s 289ms/step - loss: 0.8359 - accuracy: 0.6171 - val_loss: 0.8257 - val_accuracy: 0.5946\n",
            "Epoch 73/80\n",
            "4/4 [==============================] - 1s 290ms/step - loss: 0.7648 - accuracy: 0.6762 - val_loss: 0.8119 - val_accuracy: 0.6154\n",
            "Epoch 74/80\n",
            "4/4 [==============================] - 1s 343ms/step - loss: 0.7561 - accuracy: 0.6750 - val_loss: 0.8099 - val_accuracy: 0.6197\n",
            "Epoch 75/80\n",
            "4/4 [==============================] - 2s 457ms/step - loss: 0.7587 - accuracy: 0.6658 - val_loss: 0.8112 - val_accuracy: 0.6041\n",
            "Epoch 76/80\n",
            "4/4 [==============================] - 2s 511ms/step - loss: 0.7651 - accuracy: 0.6652 - val_loss: 0.8316 - val_accuracy: 0.6024\n",
            "Epoch 77/80\n",
            "4/4 [==============================] - 2s 516ms/step - loss: 0.7612 - accuracy: 0.6661 - val_loss: 0.8212 - val_accuracy: 0.6007\n",
            "Epoch 78/80\n",
            "4/4 [==============================] - 1s 292ms/step - loss: 0.8000 - accuracy: 0.6384 - val_loss: 0.9554 - val_accuracy: 0.4970\n",
            "Epoch 79/80\n",
            "4/4 [==============================] - 1s 295ms/step - loss: 0.8679 - accuracy: 0.5929 - val_loss: 0.8360 - val_accuracy: 0.5825\n",
            "Epoch 80/80\n",
            "4/4 [==============================] - 1s 288ms/step - loss: 0.7632 - accuracy: 0.6667 - val_loss: 0.8060 - val_accuracy: 0.6145\n"
          ]
        }
      ]
    },
    {
      "cell_type": "code",
      "source": [
        "# оцениваем нейросеть\n",
        "print(\"[INFO] evaluating network...\")\n",
        "predictions = model.predict(testX, batch_size=32)\n",
        "print(classification_report(testY.argmax(axis=1),\n",
        "\tpredictions.argmax(axis=1), target_names=lb.classes_))"
      ],
      "metadata": {
        "colab": {
          "base_uri": "https://localhost:8080/"
        },
        "id": "RzEeCCZVzLW7",
        "outputId": "84afa4d2-676f-4179-cd8e-5b60bdc46d58"
      },
      "execution_count": 237,
      "outputs": [
        {
          "output_type": "stream",
          "name": "stdout",
          "text": [
            "[INFO] evaluating network...\n",
            "37/37 [==============================] - 0s 10ms/step\n",
            "              precision    recall  f1-score   support\n",
            "\n",
            "         cat       0.59      0.62      0.61       382\n",
            "         dog       0.56      0.41      0.47       384\n",
            "       horse       0.66      0.81      0.73       391\n",
            "\n",
            "    accuracy                           0.61      1157\n",
            "   macro avg       0.61      0.61      0.60      1157\n",
            "weighted avg       0.61      0.61      0.60      1157\n",
            "\n"
          ]
        }
      ]
    },
    {
      "cell_type": "code",
      "source": [
        "# строим графики потерь и точности\n",
        "N = np.arange(0, EPOCHS)\n",
        "plt.style.use(\"ggplot\")\n",
        "plt.figure()\n",
        "plt.plot(N, H.history[\"loss\"], label=\"train_loss\")\n",
        "plt.plot(N, H.history[\"val_loss\"], label=\"val_loss\")\n",
        "plt.plot(N, H.history[\"accuracy\"], label=\"train_acc\")\n",
        "plt.plot(N, H.history[\"val_accuracy\"], label=\"val_acc\")\n",
        "plt.title(\"Training Loss and Accuracy (Simple NN)\")\n",
        "plt.xlabel(\"Epoch #\")\n",
        "plt.ylabel(\"Loss/Accuracy\")\n",
        "plt.legend()\n",
        "plt.savefig('plot.png')\n",
        "cv2_imshow(cv2.imread(\"plot.png\"))"
      ],
      "metadata": {
        "colab": {
          "base_uri": "https://localhost:8080/",
          "height": 497
        },
        "id": "l_NmYuRAzMHz",
        "outputId": "f89b2cc2-d77c-410e-d181-1c7dc33d6e03"
      },
      "execution_count": 238,
      "outputs": [
        {
          "output_type": "display_data",
          "data": {
            "text/plain": [
              "<PIL.Image.Image image mode=RGB size=640x480 at 0x7FB0499A8CD0>"
            ],
            "image/png": "[encoded data removed]"
          },
          "metadata": {}
        }
      ]
    },
    {
      "cell_type": "code",
      "source": [
        "# сохраняем модель и метки классов в бинарном представлении на диск\n",
        "print(\"[INFO] serializing network and label binarizer...\")\n",
        "model.save(\"model.h5\", save_format=\"h5\")\n",
        "f = open(\"label_bin\", \"wb\")\n",
        "f.write(pickle.dumps(lb))\n",
        "f.close()"
      ],
      "metadata": {
        "colab": {
          "base_uri": "https://localhost:8080/"
        },
        "id": "h3CtxMvpzQjq",
        "outputId": "36394a63-b361-4b32-bdbb-0baf4ccce665"
      },
      "execution_count": 239,
      "outputs": [
        {
          "output_type": "stream",
          "name": "stdout",
          "text": [
            "[INFO] serializing network and label binarizer...\n"
          ]
        }
      ]
    },
    {
      "cell_type": "code",
      "source": [
        "from keras.models import load_model\n",
        "import argparse\n",
        "import pickle\n",
        "import cv2"
      ],
      "metadata": {
        "id": "EddFs5rVzS32"
      },
      "execution_count": 240,
      "outputs": []
    },
    {
      "cell_type": "code",
      "source": [
        "# Добавляем интерфейс для загрузки изображений напрямую из блокнота\n",
        "from google.colab import files\n",
        "uploaded = files.upload() \n",
        "\n",
        "# загружаем входное изображение, меняем его размер на необходимый и выводим его\n",
        "image = cv2.imread(list(uploaded.keys())[0])\n",
        "output = image.copy()\n",
        "image = cv2.resize(image, (32, 32))\n",
        "cv2_imshow(image)"
      ],
      "metadata": {
        "colab": {
          "base_uri": "https://localhost:8080/",
          "height": 105
        },
        "id": "OHR7v86jzUzh",
        "outputId": "8ef34692-a1d1-44cb-980c-68ee44c197c3"
      },
      "execution_count": 241,
      "outputs": [
        {
          "output_type": "display_data",
          "data": {
            "text/plain": [
              "<IPython.core.display.HTML object>"
            ],
            "text/html": [
              "\n",
              "     <input type=\"file\" id=\"files-3e4dbcac-f77b-45d9-97b8-c62b6e6335d9\" name=\"files[]\" multiple disabled\n",
              "        style=\"border:none\" />\n",
              "     <output id=\"result-3e4dbcac-f77b-45d9-97b8-c62b6e6335d9\">\n",
              "      Upload widget is only available when the cell has been executed in the\n",
              "      current browser session. Please rerun this cell to enable.\n",
              "      </output>\n",
              "      <script>// Copyright 2017 Google LLC\n",
              "//\n",
              "// Licensed under the Apache License, Version 2.0 (the \"License\");\n",
              "// you may not use this file except in compliance with the License.\n",
              "// You may obtain a copy of the License at\n",
              "//\n",
              "//      http://www.apache.org/licenses/LICENSE-2.0\n",
              "//\n",
              "// Unless required by applicable law or agreed to in writing, software\n",
              "// distributed under the License is distributed on an \"AS IS\" BASIS,\n",
              "// WITHOUT WARRANTIES OR CONDITIONS OF ANY KIND, either express or implied.\n",
              "// See the License for the specific language governing permissions and\n",
              "// limitations under the License.\n",
              "\n",
              "/**\n",
              " * @fileoverview Helpers for google.colab Python module.\n",
              " */\n",
              "(function(scope) {\n",
              "function span(text, styleAttributes = {}) {\n",
              "  const element = document.createElement('span');\n",
              "  element.textContent = text;\n",
              "  for (const key of Object.keys(styleAttributes)) {\n",
              "    element.style[key] = styleAttributes[key];\n",
              "  }\n",
              "  return element;\n",
              "}\n",
              "\n",
              "// Max number of bytes which will be uploaded at a time.\n",
              "const MAX_PAYLOAD_SIZE = 100 * 1024;\n",
              "\n",
              "function _uploadFiles(inputId, outputId) {\n",
              "  const steps = uploadFilesStep(inputId, outputId);\n",
              "  const outputElement = document.getElementById(outputId);\n",
              "  // Cache steps on the outputElement to make it available for the next call\n",
              "  // to uploadFilesContinue from Python.\n",
              "  outputElement.steps = steps;\n",
              "\n",
              "  return _uploadFilesContinue(outputId);\n",
              "}\n",
              "\n",
              "// This is roughly an async generator (not supported in the browser yet),\n",
              "// where there are multiple asynchronous steps and the Python side is going\n",
              "// to poll for completion of each step.\n",
              "// This uses a Promise to block the python side on completion of each step,\n",
              "// then passes the result of the previous step as the input to the next step.\n",
              "function _uploadFilesContinue(outputId) {\n",
              "  const outputElement = document.getElementById(outputId);\n",
              "  const steps = outputElement.steps;\n",
              "\n",
              "  const next = steps.next(outputElement.lastPromiseValue);\n",
              "  return Promise.resolve(next.value.promise).then((value) => {\n",
              "    // Cache the last promise value to make it available to the next\n",
              "    // step of the generator.\n",
              "    outputElement.lastPromiseValue = value;\n",
              "    return next.value.response;\n",
              "  });\n",
              "}\n",
              "\n",
              "/**\n",
              " * Generator function which is called between each async step of the upload\n",
              " * process.\n",
              " * @param {string} inputId Element ID of the input file picker element.\n",
              " * @param {string} outputId Element ID of the output display.\n",
              " * @return {!Iterable<!Object>} Iterable of next steps.\n",
              " */\n",
              "function* uploadFilesStep(inputId, outputId) {\n",
              "  const inputElement = document.getElementById(inputId);\n",
              "  inputElement.disabled = false;\n",
              "\n",
              "  const outputElement = document.getElementById(outputId);\n",
              "  outputElement.innerHTML = '';\n",
              "\n",
              "  const pickedPromise = new Promise((resolve) => {\n",
              "    inputElement.addEventListener('change', (e) => {\n",
              "      resolve(e.target.files);\n",
              "    });\n",
              "  });\n",
              "\n",
              "  const cancel = document.createElement('button');\n",
              "  inputElement.parentElement.appendChild(cancel);\n",
              "  cancel.textContent = 'Cancel upload';\n",
              "  const cancelPromise = new Promise((resolve) => {\n",
              "    cancel.onclick = () => {\n",
              "      resolve(null);\n",
              "    };\n",
              "  });\n",
              "\n",
              "  // Wait for the user to pick the files.\n",
              "  const files = yield {\n",
              "    promise: Promise.race([pickedPromise, cancelPromise]),\n",
              "    response: {\n",
              "      action: 'starting',\n",
              "    }\n",
              "  };\n",
              "\n",
              "  cancel.remove();\n",
              "\n",
              "  // Disable the input element since further picks are not allowed.\n",
              "  inputElement.disabled = true;\n",
              "\n",
              "  if (!files) {\n",
              "    return {\n",
              "      response: {\n",
              "        action: 'complete',\n",
              "      }\n",
              "    };\n",
              "  }\n",
              "\n",
              "  for (const file of files) {\n",
              "    const li = document.createElement('li');\n",
              "    li.append(span(file.name, {fontWeight: 'bold'}));\n",
              "    li.append(span(\n",
              "        `(${file.type || 'n/a'}) - ${file.size} bytes, ` +\n",
              "        `last modified: ${\n",
              "            file.lastModifiedDate ? file.lastModifiedDate.toLocaleDateString() :\n",
              "                                    'n/a'} - `));\n",
              "    const percent = span('0% done');\n",
              "    li.appendChild(percent);\n",
              "\n",
              "    outputElement.appendChild(li);\n",
              "\n",
              "    const fileDataPromise = new Promise((resolve) => {\n",
              "      const reader = new FileReader();\n",
              "      reader.onload = (e) => {\n",
              "        resolve(e.target.result);\n",
              "      };\n",
              "      reader.readAsArrayBuffer(file);\n",
              "    });\n",
              "    // Wait for the data to be ready.\n",
              "    let fileData = yield {\n",
              "      promise: fileDataPromise,\n",
              "      response: {\n",
              "        action: 'continue',\n",
              "      }\n",
              "    };\n",
              "\n",
              "    // Use a chunked sending to avoid message size limits. See b/62115660.\n",
              "    let position = 0;\n",
              "    do {\n",
              "      const length = Math.min(fileData.byteLength - position, MAX_PAYLOAD_SIZE);\n",
              "      const chunk = new Uint8Array(fileData, position, length);\n",
              "      position += length;\n",
              "\n",
              "      const base64 = btoa(String.fromCharCode.apply(null, chunk));\n",
              "      yield {\n",
              "        response: {\n",
              "          action: 'append',\n",
              "          file: file.name,\n",
              "          data: base64,\n",
              "        },\n",
              "      };\n",
              "\n",
              "      let percentDone = fileData.byteLength === 0 ?\n",
              "          100 :\n",
              "          Math.round((position / fileData.byteLength) * 100);\n",
              "      percent.textContent = `${percentDone}% done`;\n",
              "\n",
              "    } while (position < fileData.byteLength);\n",
              "  }\n",
              "\n",
              "  // All done.\n",
              "  yield {\n",
              "    response: {\n",
              "      action: 'complete',\n",
              "    }\n",
              "  };\n",
              "}\n",
              "\n",
              "scope.google = scope.google || {};\n",
              "scope.google.colab = scope.google.colab || {};\n",
              "scope.google.colab._files = {\n",
              "  _uploadFiles,\n",
              "  _uploadFilesContinue,\n",
              "};\n",
              "})(self);\n",
              "</script> "
            ]
          },
          "metadata": {}
        },
        {
          "output_type": "stream",
          "name": "stdout",
          "text": [
            "Saving horse-59.jpg to horse-59.jpg\n"
          ]
        },
        {
          "output_type": "display_data",
          "data": {
            "text/plain": [
              "<PIL.Image.Image image mode=RGB size=32x32 at 0x7FB0466B39A0>"
            ],
            "image/png": "[encoded data removed]"
          },
          "metadata": {}
        }
      ]
    },
    {
      "cell_type": "code",
      "source": [
        "# \"Выравниваем\" изображение (преобразуем его в вектор. Из 32х32х3 -> 3072)\n",
        "image = image.flatten()\n",
        "# масштабируем значения пикселей к диапазону [0, 1]\n",
        "image = image.astype(\"float\") / 255.0\n",
        "image = image.reshape((1, image.shape[0]))"
      ],
      "metadata": {
        "id": "RqHykG14zWrc"
      },
      "execution_count": 242,
      "outputs": []
    },
    {
      "cell_type": "code",
      "source": [
        "# загружаем модель и бинаризатор меток\n",
        "from keras import models    \n",
        "print(\"[INFO] loading network and label binarizer...\")\n",
        "model = models.load_model(\"model.h5\")\n",
        "lb = pickle.loads(open(\"label_bin\", \"rb\").read())"
      ],
      "metadata": {
        "colab": {
          "base_uri": "https://localhost:8080/"
        },
        "id": "N_itGCvbzatP",
        "outputId": "3cf365c8-d824-44f8-b363-07653de735d9"
      },
      "execution_count": 243,
      "outputs": [
        {
          "output_type": "stream",
          "name": "stdout",
          "text": [
            "[INFO] loading network and label binarizer...\n"
          ]
        }
      ]
    },
    {
      "cell_type": "code",
      "source": [
        "# делаем предсказание на изображении\n",
        "preds = model.predict(image)\n",
        "print(preds)"
      ],
      "metadata": {
        "colab": {
          "base_uri": "https://localhost:8080/"
        },
        "id": "lxPZ5lVozcjt",
        "outputId": "8efb54a7-7382-4786-ae9e-5fe40be35a7f"
      },
      "execution_count": 244,
      "outputs": [
        {
          "output_type": "stream",
          "name": "stdout",
          "text": [
            "1/1 [==============================] - 0s 61ms/step\n",
            "[[0.03440936 0.06594458 0.899646  ]]\n"
          ]
        }
      ]
    },
    {
      "cell_type": "code",
      "source": [
        "# находим индекс метки класса с наибольшей вероятностью\n",
        "# соответствия\n",
        "i = preds.argmax(axis=1)[0]\n",
        "label = lb.classes_[i]"
      ],
      "metadata": {
        "id": "MqO21ENtzeJm"
      },
      "execution_count": 246,
      "outputs": []
    },
    {
      "cell_type": "code",
      "source": [
        "# Добавляем на исходное изображение метку класса и вероятность прогноза\n",
        "text = \"{}: {:.2f}%\".format(label, preds[0][i] * 100)\n",
        "cv2.putText(output, text, (10, 30), cv2.FONT_HERSHEY_SIMPLEX, 0.7,\n",
        "\t(0, 0, 255), 2)"
      ],
      "metadata": {
        "colab": {
          "base_uri": "https://localhost:8080/"
        },
        "id": "pVIgtTfazfxM",
        "outputId": "25968364-7ca9-4156-a6b7-d4330a3599d6"
      },
      "execution_count": 247,
      "outputs": [
        {
          "output_type": "execute_result",
          "data": {
            "text/plain": [
              "array([[[221, 216, 215],\n",
              "        [220, 215, 214],\n",
              "        [218, 213, 212],\n",
              "        ...,\n",
              "        [242, 244, 244],\n",
              "        [242, 244, 244],\n",
              "        [242, 244, 244]],\n",
              "\n",
              "       [[222, 217, 216],\n",
              "        [221, 216, 215],\n",
              "        [219, 214, 213],\n",
              "        ...,\n",
              "        [242, 244, 244],\n",
              "        [242, 244, 244],\n",
              "        [242, 244, 244]],\n",
              "\n",
              "       [[226, 218, 218],\n",
              "        [225, 217, 217],\n",
              "        [223, 215, 215],\n",
              "        ...,\n",
              "        [243, 245, 245],\n",
              "        [243, 245, 245],\n",
              "        [243, 245, 245]],\n",
              "\n",
              "       ...,\n",
              "\n",
              "       [[ 63, 138, 136],\n",
              "        [ 66, 141, 139],\n",
              "        [ 69, 144, 142],\n",
              "        ...,\n",
              "        [ 53, 134, 125],\n",
              "        [ 58, 139, 130],\n",
              "        [ 48, 128, 121]],\n",
              "\n",
              "       [[ 86, 156, 155],\n",
              "        [ 71, 141, 140],\n",
              "        [ 67, 141, 137],\n",
              "        ...,\n",
              "        [ 52, 130, 123],\n",
              "        [ 68, 146, 139],\n",
              "        [ 46, 120, 114]],\n",
              "\n",
              "       [[ 88, 156, 155],\n",
              "        [ 73, 141, 140],\n",
              "        [ 69, 140, 137],\n",
              "        ...,\n",
              "        [ 50, 128, 121],\n",
              "        [ 67, 144, 137],\n",
              "        [ 82, 153, 150]]], dtype=uint8)"
            ]
          },
          "metadata": {},
          "execution_count": 247
        }
      ]
    },
    {
      "cell_type": "code",
      "source": [
        "# показываем выходное изображение\n",
        "cv2_imshow(output)"
      ],
      "metadata": {
        "colab": {
          "base_uri": "https://localhost:8080/",
          "height": 227
        },
        "id": "KYBt4ueJziZG",
        "outputId": "7efdc396-1ca5-45f7-cde8-d56ca6ea7ba5"
      },
      "execution_count": 248,
      "outputs": [
        {
          "output_type": "display_data",
          "data": {
            "text/plain": [
              "<PIL.Image.Image image mode=RGB size=241x210 at 0x7FB0499F0D90>"
            ],
            "image/png": "[encoded data removed]"
          },
          "metadata": {}
        }
      ]
    }
  ]
}